{
 "cells": [
  {
   "cell_type": "markdown",
   "id": "ac8eca41-f813-45b2-9064-aef768f79c94",
   "metadata": {},
   "source": [
    "# Hormonal contraceptives effect on HPV infection \n",
    "## Final project in Practical Bayes 2025\n",
    "\n",
    "**Synopsis:**\n",
    "Human papillomavirus (HPV) is a common group of viruses. There are many HPV genotypes, but particular genotypes called \"high-risk HPV\" have been shown to cause cervical cancer.\n",
    "\n",
    "HPV is transmitted sexually through skin-to-skin contact. The virus clears itself out in most cases thanks to the immune system. However, persistent infection with high-risk HPV genotypes can cause changes in cells (precancerous conditions) and, if untreated, may lead to cervical cancer. HPV causes also other types of cancers like penile, anal or throat cancer.\n",
    "\n",
    "The national vaccination program against high-risk HPV started in 2018, and 12-14-year-old boys and girls are now routinely vaccinated in Estonia. However, the HPV vaccine is effective before the initiation of sexual activity and protects only against specific HPV genotypes. Therefore, HPV screening continues to be important in all age groups, but especially in unvaccinated cohorts.\n",
    "\n",
    "In Estonia, women aged 30-65 are invited to cervical cancer screening programs. It is also known that many people don't attend screening because of different barriers. Therefore, to get a clearer picture of the high risk HPV prevalence and risk factors, we collected population-based data.\n",
    "\n",
    "This dataset consists of cross-sectional data of 1000 Estonian women aged 30-70 years. Women were invited to a study via mail or e-mail. They filled in a questionnaire (paper or online) and also gave a self-sampling HPV test that was sent to a lab for analysis and genotyping.\n",
    "\n",
    "Our research question currently is: **Do hormonal contraceptives increase the risk of high-risk HPV infection?**\n",
    "\n",
    "**Variables:**\n",
    "* **age**  - age at the time of study (years)\n",
    "* **first_sex** - age at first intercourse (years)\n",
    "* **nr_of_sex_partners** - nr of lifetime sexual partners\n",
    "* **smoking** - current smoking status (1=smoker/0=non-smoker)\n",
    "* **hormonal_contrcptvs** - ever used hormonal contraception (including birth control pills, hormonal iud, vaginal ring, hormonal implants, hormonal patches or shots) (1=yes/0=no)\n",
    "* **hc_longest_period** - longest concecutive period of hormonal contraception usage (full years)\n",
    "* **hrhpv_prevalence** - test result for high-risk HPV (1=positive/0=negative)"
   ]
  },
  {
   "cell_type": "code",
   "execution_count": null,
   "id": "882ad6ba-48ae-441d-a70f-01969aa29349",
   "metadata": {},
   "outputs": [],
   "source": [
    "import pymc as pm\n",
    "import arviz as az\n",
    "import pandas as pd\n",
    "import numpy as np\n",
    "\n",
    "# Let's model!\n",
    "df = pd.read_csv('hpv_prevalence.csv')"
   ]
  }
 ],
 "metadata": {
  "kernelspec": {
   "display_name": "Python 3 (ipykernel)",
   "language": "python",
   "name": "python3"
  },
  "language_info": {
   "codemirror_mode": {
    "name": "ipython",
    "version": 3
   },
   "file_extension": ".py",
   "mimetype": "text/x-python",
   "name": "python",
   "nbconvert_exporter": "python",
   "pygments_lexer": "ipython3",
   "version": "3.12.9"
  }
 },
 "nbformat": 4,
 "nbformat_minor": 5
}
